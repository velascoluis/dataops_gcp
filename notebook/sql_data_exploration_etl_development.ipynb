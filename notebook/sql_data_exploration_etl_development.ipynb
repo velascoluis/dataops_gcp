{
 "cells": [
  {
   "cell_type": "markdown",
   "id": "6ad37526-3053-4d61-9100-15488ad3a3f1",
   "metadata": {
    "tags": []
   },
   "source": [
    "# Data exploration and ETL development using `BigQuery SQL` and `pandas` with BQ Dataframes"
   ]
  },
  {
   "cell_type": "markdown",
   "id": "c0f8f52b-70c7-4e9e-8ade-dd0dafb463a2",
   "metadata": {},
   "source": [
    "## Data exploration: Calculate average departure delay per airport"
   ]
  },
  {
   "cell_type": "markdown",
   "id": "e51c1008-f753-4eec-b9b4-77305533e6ce",
   "metadata": {
    "tags": []
   },
   "source": [
    "### BigQuery SQL"
   ]
  },
  {
   "cell_type": "markdown",
   "id": "83c5bce0-d0b4-4f80-8578-943d7a600370",
   "metadata": {},
   "source": [
    "To use BigQuery SQL, simple add a new cell and click on the BigQuery icon.\n",
    "You can also click on the BigQuery logo on the left menu and execute the query from the interacive SQL Editor."
   ]
  },
  {
   "cell_type": "markdown",
   "id": "31fe8beb-6ee3-4b12-acd4-59f7688a808d",
   "metadata": {},
   "source": [
    "#@bigquery\n",
    "SELECT\n",
    "    a.airport_name,\n",
    "    AVG(f.departure_delay) AS average_departure_delay\n",
    "FROM\n",
    "    `airline.fact_flight` AS f\n",
    "JOIN\n",
    "    `airline.dim_flight` AS df ON f.flight_key = df.flight_key\n",
    "JOIN\n",
    "    `airline.dim_airport` AS a ON df.departure_airport_key = a.airport_key\n",
    "GROUP BY\n",
    "    a.airport_name\n",
    "ORDER BY\n",
    "    average_departure_delay DESC;"
   ]
  },
  {
   "cell_type": "markdown",
   "id": "ce64cd0a-d5ae-43d7-b10f-713d91122d4b",
   "metadata": {
    "tags": []
   },
   "source": [
    "Alternatively, you can use the BigQuery python SDK"
   ]
  },
  {
   "cell_type": "code",
   "execution_count": null,
   "id": "d043508f-4134-4bef-b62d-2584a1fef463",
   "metadata": {
    "tags": []
   },
   "outputs": [],
   "source": [
    "from google.cloud import bigquery\n",
    "import pandas as pd\n",
    "\n",
    "client = bigquery.Client()\n",
    "\n",
    "dataset_id = \"airline\" \n",
    "project_id = \"velascoluis-dev-sandbox\"\n",
    "\n",
    "query = f\"\"\"\n",
    "SELECT\n",
    "    a.airport_name,\n",
    "    AVG(f.departure_delay) AS average_departure_delay\n",
    "FROM\n",
    "    `{project_id}.{dataset_id}.fact_flight` AS f\n",
    "JOIN\n",
    "    `{project_id}.{dataset_id}.dim_flight` AS df ON f.flight_key = df.flight_key\n",
    "JOIN\n",
    "    `{project_id}.{dataset_id}.dim_airport` AS a ON df.departure_airport_key = a.airport_key\n",
    "GROUP BY\n",
    "    a.airport_name\n",
    "ORDER BY\n",
    "    average_departure_delay DESC;\n",
    "\"\"\"\n",
    "df = client.query_and_wait(query).to_dataframe()\n",
    "print(df)"
   ]
  },
  {
   "cell_type": "markdown",
   "id": "dfbe3e17-bcf2-4bb2-a8a3-e8fb8c8c3839",
   "metadata": {},
   "source": [
    "### pandas (BQ Dataframes)"
   ]
  },
  {
   "cell_type": "markdown",
   "id": "52e50bb1-5e6c-4a20-b123-558f3ea557f6",
   "metadata": {},
   "source": [
    "BigQuery Dataframes is an open source python packgage that transpiles from pandas syntax to scalable BQ SQL"
   ]
  },
  {
   "cell_type": "code",
   "execution_count": null,
   "id": "f282dd9b-2de4-445a-918e-5676b62d4025",
   "metadata": {
    "tags": []
   },
   "outputs": [],
   "source": [
    "import bigframes.pandas as bpd\n",
    "\n",
    "\n",
    "fact_flight_df = bpd.read_gbq(\"select * from airline.fact_flight\")\n",
    "dim_flight_df = bpd.read_gbq(\"select * from airline.dim_flight\")\n",
    "dim_airport_df = bpd.read_gbq(\"select * from airline.dim_airport\")\n",
    "\n",
    "joined_df = fact_flight_df.set_index('flight_key').join(dim_flight_df.set_index('flight_key'))\n",
    "joined_df = joined_df.set_index('departure_airport_key').join(dim_airport_df.set_index('airport_key'))\n",
    "\n",
    "\n",
    "average_delay_df = joined_df.groupby('airport_name')['departure_delay'].mean().reset_index()\n",
    "average_delay_df = average_delay_df.rename(columns={'departure_delay': 'average_departure_delay'})\n",
    "average_delay_df = average_delay_df.sort_values(by='average_departure_delay', ascending=False)\n",
    "\n",
    "print(average_delay_df)"
   ]
  },
  {
   "cell_type": "markdown",
   "id": "5fda6084-af44-4932-a964-7288abd93ba2",
   "metadata": {},
   "source": [
    "## ETL development: Airport delays aggregation"
   ]
  },
  {
   "cell_type": "code",
   "execution_count": null,
   "id": "c23d9abe-2771-436c-9d9d-3f1b859c23ab",
   "metadata": {
    "tags": []
   },
   "outputs": [],
   "source": [
    "from google.cloud import bigquery\n",
    "\n",
    "client = bigquery.Client()\n",
    "# Step 1: Calculate total delay and on-time performance flag\n",
    "query_step_1 = \"\"\"CREATE OR REPLACE TABLE airline.etl_step_1_delays_sql AS\n",
    "SELECT\n",
    "    f.flight_key,\n",
    "    COALESCE(f.departure_delay, 0) + COALESCE(f.arrival_delay, 0) AS total_delay,\n",
    "    CASE WHEN COALESCE(f.departure_delay, 0) + COALESCE(f.arrival_delay, 0) <= 0 THEN 1 ELSE 0 END AS on_time_performance\n",
    "FROM\n",
    "    `velascoluis-dev-sandbox.airline.fact_flight` AS f;\"\"\"\n",
    "\n",
    "# Step 2: Join with dim_flight and dim_airport to get airport names\n",
    "query_step_2 = \"\"\"CREATE OR REPLACE  TABLE airline.etl_step_2_flight_delays_with_airports_sql AS\n",
    "SELECT\n",
    "    d.total_delay,\n",
    "    d.on_time_performance,\n",
    "    a.airport_name\n",
    "FROM\n",
    "    airline.etl_step_1_delays_sql AS d\n",
    "JOIN\n",
    "    `velascoluis-dev-sandbox.airline.dim_flight` AS df ON d.flight_key = df.flight_key\n",
    "JOIN\n",
    "    `velascoluis-dev-sandbox.airline.dim_airport` AS a ON df.departure_airport_key = a.airport_key;\"\"\"\n",
    "\n",
    "# Step 3: Aggregate by airport to calculate average delay and on-time percentage\n",
    "query_step_3 = \"\"\"CREATE OR REPLACE TABLE airline.etl_step_3_airport_performance_sql AS\n",
    "SELECT\n",
    "    a.airport_name,\n",
    "    AVG(a.total_delay) AS average_total_delay,\n",
    "    AVG(a.on_time_performance) AS on_time_percentage\n",
    "FROM\n",
    "    airline.etl_step_2_flight_delays_with_airports_sql AS a\n",
    "GROUP BY\n",
    "    a.airport_name;\"\"\""
   ]
  },
  {
   "cell_type": "code",
   "execution_count": null,
   "id": "39f56cdc-c107-45e2-958d-85c2bdf73235",
   "metadata": {
    "tags": []
   },
   "outputs": [],
   "source": [
    "client.query_and_wait(query_step_1)\n",
    "client.query_and_wait(query_step_2)\n",
    "client.query_and_wait(query_step_3)"
   ]
  },
  {
   "cell_type": "code",
   "execution_count": null,
   "id": "36a218ff-45da-407f-adb7-8251ce644ce1",
   "metadata": {
    "tags": []
   },
   "outputs": [],
   "source": [
    "client.query_and_wait(\"SELECT * FROM airline.etl_step_3_airport_performance_sql\").to_dataframe()"
   ]
  }
 ],
 "metadata": {
  "environment": {
   "kernel": "conda-base-py",
   "name": "workbench-notebooks.m125",
   "type": "gcloud",
   "uri": "us-docker.pkg.dev/deeplearning-platform-release/gcr.io/workbench-notebooks:m125"
  },
  "kernelspec": {
   "display_name": "Python 3 (ipykernel) (Local)",
   "language": "python",
   "name": "conda-base-py"
  },
  "language_info": {
   "codemirror_mode": {
    "name": "ipython",
    "version": 3
   },
   "file_extension": ".py",
   "mimetype": "text/x-python",
   "name": "python",
   "nbconvert_exporter": "python",
   "pygments_lexer": "ipython3",
   "version": "3.10.15"
  }
 },
 "nbformat": 4,
 "nbformat_minor": 5
}

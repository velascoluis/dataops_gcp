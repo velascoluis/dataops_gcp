{
 "cells": [
  {
   "cell_type": "markdown",
   "id": "6ad37526-3053-4d61-9100-15488ad3a3f1",
   "metadata": {
    "tags": []
   },
   "source": [
    "# Data exploration and ETL development using `BigQuery SQL` and `pandas` with BQ Dataframes"
   ]
  },
  {
   "cell_type": "markdown",
   "id": "c0f8f52b-70c7-4e9e-8ade-dd0dafb463a2",
   "metadata": {},
   "source": [
    "## Data exploration: Calculate average departure delay per airport"
   ]
  },
  {
   "cell_type": "markdown",
   "id": "e51c1008-f753-4eec-b9b4-77305533e6ce",
   "metadata": {
    "tags": []
   },
   "source": [
    "### BigQuery SQL"
   ]
  },
  {
   "cell_type": "markdown",
   "id": "83c5bce0-d0b4-4f80-8578-943d7a600370",
   "metadata": {},
   "source": [
    "To use BigQuery SQL, simple add a new cell and click on the BigQuery icon.\n",
    "You can also click on the BigQuery logo on the left menu and execute the query from the interacive SQL Editor."
   ]
  },
  {
   "cell_type": "markdown",
   "id": "31fe8beb-6ee3-4b12-acd4-59f7688a808d",
   "metadata": {},
   "source": [
    "#@bigquery\n",
    "SELECT\n",
    "    a.airport_name,\n",
    "    AVG(f.departure_delay) AS average_departure_delay\n",
    "FROM\n",
    "    `airline.fact_flight` AS f\n",
    "JOIN\n",
    "    `airline.dim_flight` AS df ON f.flight_key = df.flight_key\n",
    "JOIN\n",
    "    `airline.dim_airport` AS a ON df.departure_airport_key = a.airport_key\n",
    "GROUP BY\n",
    "    a.airport_name\n",
    "ORDER BY\n",
    "    average_departure_delay DESC;"
   ]
  },
  {
   "cell_type": "markdown",
   "id": "ce64cd0a-d5ae-43d7-b10f-713d91122d4b",
   "metadata": {
    "tags": []
   },
   "source": [
    "Alternatively, you can use the BigQuery python SDK"
   ]
  },
  {
   "cell_type": "code",
   "execution_count": 2,
   "id": "d043508f-4134-4bef-b62d-2584a1fef463",
   "metadata": {
    "tags": []
   },
   "outputs": [
    {
     "name": "stdout",
     "output_type": "stream",
     "text": [
      "                            airport_name  average_departure_delay\n",
      "0      Los Angeles International Airport                     30.0\n",
      "1                       Heathrow Airport                     15.0\n",
      "2  John F. Kennedy International Airport                      0.0\n"
     ]
    }
   ],
   "source": [
    "from google.cloud import bigquery\n",
    "import pandas as pd\n",
    "\n",
    "client = bigquery.Client()\n",
    "\n",
    "dataset_id = \"airline\" \n",
    "project_id = \"velascoluis-dev-sandbox\"\n",
    "\n",
    "query = f\"\"\"\n",
    "SELECT\n",
    "    a.airport_name,\n",
    "    AVG(f.departure_delay) AS average_departure_delay\n",
    "FROM\n",
    "    `{project_id}.{dataset_id}.fact_flight` AS f\n",
    "JOIN\n",
    "    `{project_id}.{dataset_id}.dim_flight` AS df ON f.flight_key = df.flight_key\n",
    "JOIN\n",
    "    `{project_id}.{dataset_id}.dim_airport` AS a ON df.departure_airport_key = a.airport_key\n",
    "GROUP BY\n",
    "    a.airport_name\n",
    "ORDER BY\n",
    "    average_departure_delay DESC;\n",
    "\"\"\"\n",
    "df = client.query_and_wait(query).to_dataframe()\n",
    "print(df)"
   ]
  },
  {
   "cell_type": "markdown",
   "id": "dfbe3e17-bcf2-4bb2-a8a3-e8fb8c8c3839",
   "metadata": {},
   "source": [
    "### pandas (BQ Dataframes)"
   ]
  },
  {
   "cell_type": "markdown",
   "id": "52e50bb1-5e6c-4a20-b123-558f3ea557f6",
   "metadata": {},
   "source": [
    "BigQuery Dataframes is an open source python packgage that transpiles from pandas syntax to scalable BQ SQL"
   ]
  },
  {
   "cell_type": "code",
   "execution_count": 3,
   "id": "f282dd9b-2de4-445a-918e-5676b62d4025",
   "metadata": {
    "tags": []
   },
   "outputs": [
    {
     "data": {
      "text/html": [
       "Query job e55f0e0e-a993-4847-8890-ec0f3e2e0e17 is DONE. 222 Bytes processed. <a target=\"_blank\" href=\"https://console.cloud.google.com/bigquery?project=velascoluis-dev-sandbox&j=bq:us-central1:e55f0e0e-a993-4847-8890-ec0f3e2e0e17&page=queryresults\">Open Job</a>"
      ],
      "text/plain": [
       "<IPython.core.display.HTML object>"
      ]
     },
     "metadata": {},
     "output_type": "display_data"
    },
    {
     "data": {
      "text/html": [
       "Query job 922de6b1-5a41-40c3-8d63-2701baa34bd6 is DONE. 213 Bytes processed. <a target=\"_blank\" href=\"https://console.cloud.google.com/bigquery?project=velascoluis-dev-sandbox&j=bq:us-central1:922de6b1-5a41-40c3-8d63-2701baa34bd6&page=queryresults\">Open Job</a>"
      ],
      "text/plain": [
       "<IPython.core.display.HTML object>"
      ]
     },
     "metadata": {},
     "output_type": "display_data"
    },
    {
     "data": {
      "text/html": [
       "Query job 53f5b603-4995-4ac0-a39d-eb40e2c7cd25 is DONE. 525 Bytes processed. <a target=\"_blank\" href=\"https://console.cloud.google.com/bigquery?project=velascoluis-dev-sandbox&j=bq:us-central1:53f5b603-4995-4ac0-a39d-eb40e2c7cd25&page=queryresults\">Open Job</a>"
      ],
      "text/plain": [
       "<IPython.core.display.HTML object>"
      ]
     },
     "metadata": {},
     "output_type": "display_data"
    },
    {
     "data": {
      "text/html": [
       "Query job 3f1b1e28-a0c2-44ae-adfe-402010c6d590 is DONE. 271 Bytes processed. <a target=\"_blank\" href=\"https://console.cloud.google.com/bigquery?project=velascoluis-dev-sandbox&j=bq:us-central1:3f1b1e28-a0c2-44ae-adfe-402010c6d590&page=queryresults\">Open Job</a>"
      ],
      "text/plain": [
       "<IPython.core.display.HTML object>"
      ]
     },
     "metadata": {},
     "output_type": "display_data"
    },
    {
     "data": {
      "text/html": [
       "Query job 8c337e0b-dd38-4268-8b42-bd92adfc0bba is DONE. 0 Bytes processed. <a target=\"_blank\" href=\"https://console.cloud.google.com/bigquery?project=velascoluis-dev-sandbox&j=bq:us-central1:8c337e0b-dd38-4268-8b42-bd92adfc0bba&page=queryresults\">Open Job</a>"
      ],
      "text/plain": [
       "<IPython.core.display.HTML object>"
      ]
     },
     "metadata": {},
     "output_type": "display_data"
    },
    {
     "data": {
      "text/html": [
       "Query job 771506bb-ec25-4b15-89f8-59a4734f70b6 is DONE. 188 Bytes processed. <a target=\"_blank\" href=\"https://console.cloud.google.com/bigquery?project=velascoluis-dev-sandbox&j=bq:us-central1:771506bb-ec25-4b15-89f8-59a4734f70b6&page=queryresults\">Open Job</a>"
      ],
      "text/plain": [
       "<IPython.core.display.HTML object>"
      ]
     },
     "metadata": {},
     "output_type": "display_data"
    },
    {
     "name": "stdout",
     "output_type": "stream",
     "text": [
      "                            airport_name  average_departure_delay\n",
      "2      Los Angeles International Airport                     30.0\n",
      "0                       Heathrow Airport                     15.0\n",
      "1  John F. Kennedy International Airport                      0.0\n",
      "\n",
      "[3 rows x 2 columns]\n"
     ]
    }
   ],
   "source": [
    "import bigframes.pandas as bpd\n",
    "\n",
    "\n",
    "fact_flight_df = bpd.read_gbq(\"select * from airline.fact_flight\")\n",
    "dim_flight_df = bpd.read_gbq(\"select * from airline.dim_flight\")\n",
    "dim_airport_df = bpd.read_gbq(\"select * from airline.dim_airport\")\n",
    "\n",
    "joined_df = fact_flight_df.set_index('flight_key').join(dim_flight_df.set_index('flight_key'))\n",
    "joined_df = joined_df.set_index('departure_airport_key').join(dim_airport_df.set_index('airport_key'))\n",
    "\n",
    "\n",
    "average_delay_df = joined_df.groupby('airport_name')['departure_delay'].mean().reset_index()\n",
    "average_delay_df = average_delay_df.rename(columns={'departure_delay': 'average_departure_delay'})\n",
    "average_delay_df = average_delay_df.sort_values(by='average_departure_delay', ascending=False)\n",
    "\n",
    "print(average_delay_df)"
   ]
  },
  {
   "cell_type": "markdown",
   "id": "5fda6084-af44-4932-a964-7288abd93ba2",
   "metadata": {},
   "source": [
    "## ETL development: Airport delays aggregation"
   ]
  },
  {
   "cell_type": "code",
   "execution_count": 4,
   "id": "c23d9abe-2771-436c-9d9d-3f1b859c23ab",
   "metadata": {
    "tags": []
   },
   "outputs": [],
   "source": [
    "from google.cloud import bigquery\n",
    "\n",
    "client = bigquery.Client()\n",
    "# Step 1: Calculate total delay and on-time performance flag\n",
    "query_step_1 = \"\"\"CREATE OR REPLACE TABLE airline.etl_step_1_delays_sql AS\n",
    "SELECT\n",
    "    f.flight_key,\n",
    "    COALESCE(f.departure_delay, 0) + COALESCE(f.arrival_delay, 0) AS total_delay,\n",
    "    CASE WHEN COALESCE(f.departure_delay, 0) + COALESCE(f.arrival_delay, 0) <= 0 THEN 1 ELSE 0 END AS on_time_performance\n",
    "FROM\n",
    "    `velascoluis-dev-sandbox.airline.fact_flight` AS f;\"\"\"\n",
    "\n",
    "# Step 2: Join with dim_flight and dim_airport to get airport names\n",
    "query_step_2 = \"\"\"CREATE OR REPLACE  TABLE airline.etl_step_2_flight_delays_with_airports_sql AS\n",
    "SELECT\n",
    "    d.total_delay,\n",
    "    d.on_time_performance,\n",
    "    a.airport_name\n",
    "FROM\n",
    "    airline.etl_step_1_delays_sql AS d\n",
    "JOIN\n",
    "    `velascoluis-dev-sandbox.airline.dim_flight` AS df ON d.flight_key = df.flight_key\n",
    "JOIN\n",
    "    `velascoluis-dev-sandbox.airline.dim_airport` AS a ON df.departure_airport_key = a.airport_key;\"\"\"\n",
    "\n",
    "# Step 3: Aggregate by airport to calculate average delay and on-time percentage\n",
    "query_step_3 = \"\"\"CREATE OR REPLACE TABLE airline.etl_step_3_airport_performance_sql AS\n",
    "SELECT\n",
    "    a.airport_name,\n",
    "    AVG(a.total_delay) AS average_total_delay,\n",
    "    AVG(a.on_time_performance) AS on_time_percentage\n",
    "FROM\n",
    "    airline.etl_step_2_flight_delays_with_airports_sql AS a\n",
    "GROUP BY\n",
    "    a.airport_name;\"\"\""
   ]
  },
  {
   "cell_type": "code",
   "execution_count": 5,
   "id": "39f56cdc-c107-45e2-958d-85c2bdf73235",
   "metadata": {
    "tags": []
   },
   "outputs": [
    {
     "data": {
      "text/plain": [
       "<google.cloud.bigquery.table.RowIterator at 0x7f9c522b3f70>"
      ]
     },
     "execution_count": 5,
     "metadata": {},
     "output_type": "execute_result"
    }
   ],
   "source": [
    "client.query_and_wait(query_step_1)\n",
    "client.query_and_wait(query_step_2)\n",
    "client.query_and_wait(query_step_3)"
   ]
  },
  {
   "cell_type": "code",
   "execution_count": 6,
   "id": "36a218ff-45da-407f-adb7-8251ce644ce1",
   "metadata": {
    "tags": []
   },
   "outputs": [
    {
     "data": {
      "text/html": [
       "<div>\n",
       "<style scoped>\n",
       "    .dataframe tbody tr th:only-of-type {\n",
       "        vertical-align: middle;\n",
       "    }\n",
       "\n",
       "    .dataframe tbody tr th {\n",
       "        vertical-align: top;\n",
       "    }\n",
       "\n",
       "    .dataframe thead th {\n",
       "        text-align: right;\n",
       "    }\n",
       "</style>\n",
       "<table border=\"1\" class=\"dataframe\">\n",
       "  <thead>\n",
       "    <tr style=\"text-align: right;\">\n",
       "      <th></th>\n",
       "      <th>airport_name</th>\n",
       "      <th>average_total_delay</th>\n",
       "      <th>on_time_percentage</th>\n",
       "    </tr>\n",
       "  </thead>\n",
       "  <tbody>\n",
       "    <tr>\n",
       "      <th>0</th>\n",
       "      <td>John F. Kennedy International Airport</td>\n",
       "      <td>0.0</td>\n",
       "      <td>1.0</td>\n",
       "    </tr>\n",
       "    <tr>\n",
       "      <th>1</th>\n",
       "      <td>Heathrow Airport</td>\n",
       "      <td>30.0</td>\n",
       "      <td>0.0</td>\n",
       "    </tr>\n",
       "    <tr>\n",
       "      <th>2</th>\n",
       "      <td>Los Angeles International Airport</td>\n",
       "      <td>30.0</td>\n",
       "      <td>0.0</td>\n",
       "    </tr>\n",
       "  </tbody>\n",
       "</table>\n",
       "</div>"
      ],
      "text/plain": [
       "                            airport_name  average_total_delay  \\\n",
       "0  John F. Kennedy International Airport                  0.0   \n",
       "1                       Heathrow Airport                 30.0   \n",
       "2      Los Angeles International Airport                 30.0   \n",
       "\n",
       "   on_time_percentage  \n",
       "0                 1.0  \n",
       "1                 0.0  \n",
       "2                 0.0  "
      ]
     },
     "execution_count": 6,
     "metadata": {},
     "output_type": "execute_result"
    }
   ],
   "source": [
    "client.query_and_wait(\"SELECT * FROM airline.etl_step_3_airport_performance_sql\").to_dataframe()"
   ]
  },
  {
   "cell_type": "code",
   "execution_count": null,
   "id": "a563516c-8aff-4091-ba77-96b83853bd1c",
   "metadata": {},
   "outputs": [],
   "source": []
  }
 ],
 "metadata": {
  "environment": {
   "kernel": "conda-base-py",
   "name": "workbench-notebooks.m125",
   "type": "gcloud",
   "uri": "us-docker.pkg.dev/deeplearning-platform-release/gcr.io/workbench-notebooks:m125"
  },
  "kernelspec": {
   "display_name": "Python 3 (ipykernel) (Local)",
   "language": "python",
   "name": "conda-base-py"
  },
  "language_info": {
   "codemirror_mode": {
    "name": "ipython",
    "version": 3
   },
   "file_extension": ".py",
   "mimetype": "text/x-python",
   "name": "python",
   "nbconvert_exporter": "python",
   "pygments_lexer": "ipython3",
   "version": "3.10.15"
  }
 },
 "nbformat": 4,
 "nbformat_minor": 5
}
